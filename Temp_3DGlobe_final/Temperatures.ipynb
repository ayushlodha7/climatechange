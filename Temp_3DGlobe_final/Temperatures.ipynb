{
 "cells": [
  {
   "cell_type": "code",
   "execution_count": 22,
   "id": "50760251",
   "metadata": {},
   "outputs": [],
   "source": [
    "import pandas as pd"
   ]
  },
  {
   "cell_type": "code",
   "execution_count": 23,
   "id": "69894cc9",
   "metadata": {},
   "outputs": [],
   "source": [
    "df = pd.read_csv(\"GlobalLandTemperaturesByCountry.csv\")"
   ]
  },
  {
   "cell_type": "code",
   "execution_count": 24,
   "id": "a579fa0a",
   "metadata": {},
   "outputs": [],
   "source": [
    "df['year'] = pd.DatetimeIndex(df['dt']).year"
   ]
  },
  {
   "cell_type": "code",
   "execution_count": 25,
   "id": "9e254292",
   "metadata": {},
   "outputs": [],
   "source": [
    "#Taking the years from 1913 to 2013 --> 200 years \n",
    "#Skipping from 1750 to 1913 to avoid nan values"
   ]
  },
  {
   "cell_type": "code",
   "execution_count": 26,
   "id": "6c433406",
   "metadata": {},
   "outputs": [],
   "source": [
    "df_f = df[df['year']>1913]"
   ]
  },
  {
   "cell_type": "code",
   "execution_count": 27,
   "id": "93b57c27",
   "metadata": {},
   "outputs": [
    {
     "data": {
      "text/plain": [
       "dt                                 0\n",
       "AverageTemperature               999\n",
       "AverageTemperatureUncertainty    260\n",
       "Country                            0\n",
       "year                               0\n",
       "dtype: int64"
      ]
     },
     "execution_count": 27,
     "metadata": {},
     "output_type": "execute_result"
    }
   ],
   "source": [
    "df_f.isna().sum()"
   ]
  },
  {
   "cell_type": "code",
   "execution_count": 31,
   "id": "0267bf00",
   "metadata": {},
   "outputs": [],
   "source": [
    "df_interpolate = df_f.interpolate()"
   ]
  },
  {
   "cell_type": "code",
   "execution_count": 33,
   "id": "5bd73aad",
   "metadata": {},
   "outputs": [
    {
     "data": {
      "text/plain": [
       "dt                               0\n",
       "AverageTemperature               0\n",
       "AverageTemperatureUncertainty    0\n",
       "Country                          0\n",
       "year                             0\n",
       "dtype: int64"
      ]
     },
     "execution_count": 33,
     "metadata": {},
     "output_type": "execute_result"
    }
   ],
   "source": [
    "df_interpolate.isna().sum()"
   ]
  },
  {
   "cell_type": "code",
   "execution_count": 34,
   "id": "cdb6762d",
   "metadata": {},
   "outputs": [
    {
     "data": {
      "text/html": [
       "<div>\n",
       "<style scoped>\n",
       "    .dataframe tbody tr th:only-of-type {\n",
       "        vertical-align: middle;\n",
       "    }\n",
       "\n",
       "    .dataframe tbody tr th {\n",
       "        vertical-align: top;\n",
       "    }\n",
       "\n",
       "    .dataframe thead th {\n",
       "        text-align: right;\n",
       "    }\n",
       "</style>\n",
       "<table border=\"1\" class=\"dataframe\">\n",
       "  <thead>\n",
       "    <tr style=\"text-align: right;\">\n",
       "      <th></th>\n",
       "      <th>dt</th>\n",
       "      <th>AverageTemperature</th>\n",
       "      <th>AverageTemperatureUncertainty</th>\n",
       "      <th>Country</th>\n",
       "      <th>year</th>\n",
       "    </tr>\n",
       "  </thead>\n",
       "  <tbody>\n",
       "    <tr>\n",
       "      <th>2042</th>\n",
       "      <td>1914-01-01</td>\n",
       "      <td>-2.755</td>\n",
       "      <td>0.404</td>\n",
       "      <td>Åland</td>\n",
       "      <td>1914</td>\n",
       "    </tr>\n",
       "    <tr>\n",
       "      <th>2043</th>\n",
       "      <td>1914-02-01</td>\n",
       "      <td>1.093</td>\n",
       "      <td>0.931</td>\n",
       "      <td>Åland</td>\n",
       "      <td>1914</td>\n",
       "    </tr>\n",
       "    <tr>\n",
       "      <th>2044</th>\n",
       "      <td>1914-03-01</td>\n",
       "      <td>-1.070</td>\n",
       "      <td>0.234</td>\n",
       "      <td>Åland</td>\n",
       "      <td>1914</td>\n",
       "    </tr>\n",
       "    <tr>\n",
       "      <th>2045</th>\n",
       "      <td>1914-04-01</td>\n",
       "      <td>4.034</td>\n",
       "      <td>0.725</td>\n",
       "      <td>Åland</td>\n",
       "      <td>1914</td>\n",
       "    </tr>\n",
       "    <tr>\n",
       "      <th>2046</th>\n",
       "      <td>1914-05-01</td>\n",
       "      <td>6.940</td>\n",
       "      <td>0.393</td>\n",
       "      <td>Åland</td>\n",
       "      <td>1914</td>\n",
       "    </tr>\n",
       "    <tr>\n",
       "      <th>...</th>\n",
       "      <td>...</td>\n",
       "      <td>...</td>\n",
       "      <td>...</td>\n",
       "      <td>...</td>\n",
       "      <td>...</td>\n",
       "    </tr>\n",
       "    <tr>\n",
       "      <th>577457</th>\n",
       "      <td>2013-05-01</td>\n",
       "      <td>19.059</td>\n",
       "      <td>1.022</td>\n",
       "      <td>Zimbabwe</td>\n",
       "      <td>2013</td>\n",
       "    </tr>\n",
       "    <tr>\n",
       "      <th>577458</th>\n",
       "      <td>2013-06-01</td>\n",
       "      <td>17.613</td>\n",
       "      <td>0.473</td>\n",
       "      <td>Zimbabwe</td>\n",
       "      <td>2013</td>\n",
       "    </tr>\n",
       "    <tr>\n",
       "      <th>577459</th>\n",
       "      <td>2013-07-01</td>\n",
       "      <td>17.000</td>\n",
       "      <td>0.453</td>\n",
       "      <td>Zimbabwe</td>\n",
       "      <td>2013</td>\n",
       "    </tr>\n",
       "    <tr>\n",
       "      <th>577460</th>\n",
       "      <td>2013-08-01</td>\n",
       "      <td>19.759</td>\n",
       "      <td>0.717</td>\n",
       "      <td>Zimbabwe</td>\n",
       "      <td>2013</td>\n",
       "    </tr>\n",
       "    <tr>\n",
       "      <th>577461</th>\n",
       "      <td>2013-09-01</td>\n",
       "      <td>19.759</td>\n",
       "      <td>0.717</td>\n",
       "      <td>Zimbabwe</td>\n",
       "      <td>2013</td>\n",
       "    </tr>\n",
       "  </tbody>\n",
       "</table>\n",
       "<p>289620 rows × 5 columns</p>\n",
       "</div>"
      ],
      "text/plain": [
       "                dt  AverageTemperature  AverageTemperatureUncertainty  \\\n",
       "2042    1914-01-01              -2.755                          0.404   \n",
       "2043    1914-02-01               1.093                          0.931   \n",
       "2044    1914-03-01              -1.070                          0.234   \n",
       "2045    1914-04-01               4.034                          0.725   \n",
       "2046    1914-05-01               6.940                          0.393   \n",
       "...            ...                 ...                            ...   \n",
       "577457  2013-05-01              19.059                          1.022   \n",
       "577458  2013-06-01              17.613                          0.473   \n",
       "577459  2013-07-01              17.000                          0.453   \n",
       "577460  2013-08-01              19.759                          0.717   \n",
       "577461  2013-09-01              19.759                          0.717   \n",
       "\n",
       "         Country  year  \n",
       "2042       Åland  1914  \n",
       "2043       Åland  1914  \n",
       "2044       Åland  1914  \n",
       "2045       Åland  1914  \n",
       "2046       Åland  1914  \n",
       "...          ...   ...  \n",
       "577457  Zimbabwe  2013  \n",
       "577458  Zimbabwe  2013  \n",
       "577459  Zimbabwe  2013  \n",
       "577460  Zimbabwe  2013  \n",
       "577461  Zimbabwe  2013  \n",
       "\n",
       "[289620 rows x 5 columns]"
      ]
     },
     "execution_count": 34,
     "metadata": {},
     "output_type": "execute_result"
    }
   ],
   "source": [
    "df_interpolate"
   ]
  },
  {
   "cell_type": "code",
   "execution_count": 37,
   "id": "f0f7c358",
   "metadata": {},
   "outputs": [],
   "source": [
    "df_short = df_interpolate[[\"Country\",\"AverageTemperature\"]]"
   ]
  },
  {
   "cell_type": "code",
   "execution_count": 39,
   "id": "40850b93",
   "metadata": {},
   "outputs": [],
   "source": [
    "df_short = df_short.groupby(\"Country\").mean()"
   ]
  },
  {
   "cell_type": "code",
   "execution_count": 40,
   "id": "836094f1",
   "metadata": {},
   "outputs": [
    {
     "data": {
      "text/html": [
       "<div>\n",
       "<style scoped>\n",
       "    .dataframe tbody tr th:only-of-type {\n",
       "        vertical-align: middle;\n",
       "    }\n",
       "\n",
       "    .dataframe tbody tr th {\n",
       "        vertical-align: top;\n",
       "    }\n",
       "\n",
       "    .dataframe thead th {\n",
       "        text-align: right;\n",
       "    }\n",
       "</style>\n",
       "<table border=\"1\" class=\"dataframe\">\n",
       "  <thead>\n",
       "    <tr style=\"text-align: right;\">\n",
       "      <th></th>\n",
       "      <th>AverageTemperature</th>\n",
       "    </tr>\n",
       "    <tr>\n",
       "      <th>Country</th>\n",
       "      <th></th>\n",
       "    </tr>\n",
       "  </thead>\n",
       "  <tbody>\n",
       "    <tr>\n",
       "      <th>Afghanistan</th>\n",
       "      <td>14.310228</td>\n",
       "    </tr>\n",
       "    <tr>\n",
       "      <th>Africa</th>\n",
       "      <td>24.305714</td>\n",
       "    </tr>\n",
       "    <tr>\n",
       "      <th>Albania</th>\n",
       "      <td>12.954596</td>\n",
       "    </tr>\n",
       "    <tr>\n",
       "      <th>Algeria</th>\n",
       "      <td>23.352423</td>\n",
       "    </tr>\n",
       "    <tr>\n",
       "      <th>American Samoa</th>\n",
       "      <td>26.784978</td>\n",
       "    </tr>\n",
       "    <tr>\n",
       "      <th>...</th>\n",
       "      <td>...</td>\n",
       "    </tr>\n",
       "    <tr>\n",
       "      <th>Western Sahara</th>\n",
       "      <td>22.654384</td>\n",
       "    </tr>\n",
       "    <tr>\n",
       "      <th>Yemen</th>\n",
       "      <td>26.393935</td>\n",
       "    </tr>\n",
       "    <tr>\n",
       "      <th>Zambia</th>\n",
       "      <td>21.461909</td>\n",
       "    </tr>\n",
       "    <tr>\n",
       "      <th>Zimbabwe</th>\n",
       "      <td>21.310056</td>\n",
       "    </tr>\n",
       "    <tr>\n",
       "      <th>Åland</th>\n",
       "      <td>5.722512</td>\n",
       "    </tr>\n",
       "  </tbody>\n",
       "</table>\n",
       "<p>243 rows × 1 columns</p>\n",
       "</div>"
      ],
      "text/plain": [
       "                AverageTemperature\n",
       "Country                           \n",
       "Afghanistan              14.310228\n",
       "Africa                   24.305714\n",
       "Albania                  12.954596\n",
       "Algeria                  23.352423\n",
       "American Samoa           26.784978\n",
       "...                            ...\n",
       "Western Sahara           22.654384\n",
       "Yemen                    26.393935\n",
       "Zambia                   21.461909\n",
       "Zimbabwe                 21.310056\n",
       "Åland                     5.722512\n",
       "\n",
       "[243 rows x 1 columns]"
      ]
     },
     "execution_count": 40,
     "metadata": {},
     "output_type": "execute_result"
    }
   ],
   "source": [
    "df_short"
   ]
  },
  {
   "cell_type": "code",
   "execution_count": 41,
   "id": "5f253e86",
   "metadata": {},
   "outputs": [],
   "source": [
    "df_short.to_csv(\"Temperatures.csv\")"
   ]
  },
  {
   "cell_type": "code",
   "execution_count": 44,
   "id": "3ba0fbe1",
   "metadata": {},
   "outputs": [
    {
     "data": {
      "text/plain": [
       "28.941401002506268"
      ]
     },
     "execution_count": 44,
     "metadata": {},
     "output_type": "execute_result"
    }
   ],
   "source": [
    "df_short[\"AverageTemperature\"].max()"
   ]
  },
  {
   "cell_type": "code",
   "execution_count": 45,
   "id": "d0107e1c",
   "metadata": {},
   "outputs": [
    {
     "data": {
      "text/plain": [
       "-18.046211361737676"
      ]
     },
     "execution_count": 45,
     "metadata": {},
     "output_type": "execute_result"
    }
   ],
   "source": [
    "df_short[\"AverageTemperature\"].min()"
   ]
  },
  {
   "cell_type": "code",
   "execution_count": null,
   "id": "b23caa75",
   "metadata": {},
   "outputs": [],
   "source": []
  }
 ],
 "metadata": {
  "kernelspec": {
   "display_name": "Python 3 (ipykernel)",
   "language": "python",
   "name": "python3"
  },
  "language_info": {
   "codemirror_mode": {
    "name": "ipython",
    "version": 3
   },
   "file_extension": ".py",
   "mimetype": "text/x-python",
   "name": "python",
   "nbconvert_exporter": "python",
   "pygments_lexer": "ipython3",
   "version": "3.9.13"
  }
 },
 "nbformat": 4,
 "nbformat_minor": 5
}
